{
 "cells": [
  {
   "cell_type": "markdown",
   "metadata": {
    "colab_type": "text",
    "id": "VGQAwxVHf513"
   },
   "source": [
    "## MNIST Dataset 분류기 with ConvNet"
   ]
  },
  {
   "cell_type": "markdown",
   "metadata": {
    "colab_type": "text",
    "id": "htxM08iQf3K_"
   },
   "source": [
    "* 한림대학교 딥러닝이해및활용 (710231)에 사용된 코드입니다. "
   ]
  },
  {
   "cell_type": "markdown",
   "metadata": {
    "colab_type": "text",
    "id": "BhQnYUD9gR41"
   },
   "source": [
    "### 설정하기"
   ]
  },
  {
   "cell_type": "code",
   "execution_count": 1,
   "metadata": {
    "colab": {},
    "colab_type": "code",
    "id": "qUyeJ5CYqyoa"
   },
   "outputs": [],
   "source": [
    "import tensorflow as tf\n",
    "import matplotlib.pyplot as plt\n",
    "from tensorflow.examples.tutorials.mnist import input_data"
   ]
  },
  {
   "cell_type": "markdown",
   "metadata": {
    "colab_type": "text",
    "id": "GKqPH_ukgewB"
   },
   "source": [
    "데이터 받아오기"
   ]
  },
  {
   "cell_type": "code",
   "execution_count": 2,
   "metadata": {
    "colab": {
     "base_uri": "https://localhost:8080/",
     "height": 433
    },
    "colab_type": "code",
    "executionInfo": {
     "elapsed": 3397,
     "status": "ok",
     "timestamp": 1541043167961,
     "user": {
      "displayName": "Ye-forest",
      "photoUrl": "https://lh6.googleusercontent.com/-0Ds-kFd4iM8/AAAAAAAAAAI/AAAAAAAAAFg/2hmwJIu0hic/s64/photo.jpg",
      "userId": "03647644472031772181"
     },
     "user_tz": -540
    },
    "id": "SUTex5UWrC8v",
    "outputId": "8102793f-45a2-4399-e489-4e149f37b29a"
   },
   "outputs": [
    {
     "name": "stdout",
     "output_type": "stream",
     "text": [
      "WARNING:tensorflow:From <ipython-input-2-343eb9c6862c>:1: read_data_sets (from tensorflow.contrib.learn.python.learn.datasets.mnist) is deprecated and will be removed in a future version.\n",
      "Instructions for updating:\n",
      "Please use alternatives such as official/mnist/dataset.py from tensorflow/models.\n",
      "WARNING:tensorflow:From c:\\users\\syr01\\venv\\tensorflow\\lib\\site-packages\\tensorflow\\contrib\\learn\\python\\learn\\datasets\\mnist.py:260: maybe_download (from tensorflow.contrib.learn.python.learn.datasets.base) is deprecated and will be removed in a future version.\n",
      "Instructions for updating:\n",
      "Please write your own downloading logic.\n",
      "WARNING:tensorflow:From c:\\users\\syr01\\venv\\tensorflow\\lib\\site-packages\\tensorflow\\contrib\\learn\\python\\learn\\datasets\\mnist.py:262: extract_images (from tensorflow.contrib.learn.python.learn.datasets.mnist) is deprecated and will be removed in a future version.\n",
      "Instructions for updating:\n",
      "Please use tf.data to implement this functionality.\n",
      "Extracting ./MNIST_data/train-images-idx3-ubyte.gz\n",
      "WARNING:tensorflow:From c:\\users\\syr01\\venv\\tensorflow\\lib\\site-packages\\tensorflow\\contrib\\learn\\python\\learn\\datasets\\mnist.py:267: extract_labels (from tensorflow.contrib.learn.python.learn.datasets.mnist) is deprecated and will be removed in a future version.\n",
      "Instructions for updating:\n",
      "Please use tf.data to implement this functionality.\n",
      "Extracting ./MNIST_data/train-labels-idx1-ubyte.gz\n",
      "WARNING:tensorflow:From c:\\users\\syr01\\venv\\tensorflow\\lib\\site-packages\\tensorflow\\contrib\\learn\\python\\learn\\datasets\\mnist.py:110: dense_to_one_hot (from tensorflow.contrib.learn.python.learn.datasets.mnist) is deprecated and will be removed in a future version.\n",
      "Instructions for updating:\n",
      "Please use tf.one_hot on tensors.\n",
      "Extracting ./MNIST_data/t10k-images-idx3-ubyte.gz\n",
      "Extracting ./MNIST_data/t10k-labels-idx1-ubyte.gz\n",
      "WARNING:tensorflow:From c:\\users\\syr01\\venv\\tensorflow\\lib\\site-packages\\tensorflow\\contrib\\learn\\python\\learn\\datasets\\mnist.py:290: DataSet.__init__ (from tensorflow.contrib.learn.python.learn.datasets.mnist) is deprecated and will be removed in a future version.\n",
      "Instructions for updating:\n",
      "Please use alternatives such as official/mnist/dataset.py from tensorflow/models.\n"
     ]
    }
   ],
   "source": [
    "mnist = input_data.read_data_sets('./MNIST_data/', one_hot=True)"
   ]
  },
  {
   "cell_type": "markdown",
   "metadata": {
    "colab_type": "text",
    "id": "6lp2h-WEgOsL"
   },
   "source": [
    "Hyper parameters"
   ]
  },
  {
   "cell_type": "code",
   "execution_count": 3,
   "metadata": {
    "colab": {},
    "colab_type": "code",
    "id": "qqmqBeUWgVNe"
   },
   "outputs": [],
   "source": [
    "learning_rate = 0.001\n",
    "batch_size = 50\n",
    "training_epochs = 1000#10000 # 20000번 정도 #전체 데이터 학습 횟수"
   ]
  },
  {
   "cell_type": "markdown",
   "metadata": {
    "colab_type": "text",
    "id": "wjNKck70rOyQ"
   },
   "source": [
    "### 필요 함수 정의"
   ]
  },
  {
   "cell_type": "markdown",
   "metadata": {
    "colab_type": "text",
    "id": "kK5dLVGogbLJ"
   },
   "source": [
    " 초기화"
   ]
  },
  {
   "cell_type": "code",
   "execution_count": 4,
   "metadata": {
    "colab": {},
    "colab_type": "code",
    "id": "pvO9fV7srFbG"
   },
   "outputs": [],
   "source": [
    "def weight_variable(shape):\n",
    "  initial = tf.truncated_normal(shape, stddev=0.1)\n",
    "  return tf.Variable(initial)\n",
    "\n",
    "def bias_variable(shape):\n",
    "  initial = tf.constant(0.1, shape=shape)\n",
    "  return tf.Variable(initial)"
   ]
  },
  {
   "cell_type": "markdown",
   "metadata": {
    "colab_type": "text",
    "id": "qNThy33ordDP"
   },
   "source": [
    "Convolution and Pooling"
   ]
  },
  {
   "cell_type": "code",
   "execution_count": 5,
   "metadata": {
    "colab": {},
    "colab_type": "code",
    "id": "7DlXiBs7rSzm"
   },
   "outputs": [],
   "source": [
    "def conv2d(x, W):\n",
    "  return tf.nn.conv2d(x, W, strides=[1, 1, 1, 1], padding='SAME')\n",
    "\n",
    "def max_pool_2x2(x):\n",
    "  return tf.nn.max_pool(x, ksize=[1, 2, 2, 1],\n",
    "                        strides=[1, 2, 2, 1], padding='SAME')"
   ]
  },
  {
   "cell_type": "code",
   "execution_count": 6,
   "metadata": {
    "colab": {},
    "colab_type": "code",
    "id": "MX8VFwvwrjUn"
   },
   "outputs": [],
   "source": [
    "X = tf.placeholder(tf.float32, shape=[None, 784]) #28x28\n",
    "Y = tf.placeholder(tf.float32, shape=[None, 10]) "
   ]
  },
  {
   "cell_type": "code",
   "execution_count": 7,
   "metadata": {
    "colab": {},
    "colab_type": "code",
    "id": "DLLi71KMryWp"
   },
   "outputs": [],
   "source": [
    "# reshape x to a 4d tensor < -  784를 -1 28 28 1로 바꾼다!\n",
    "x_image = tf.reshape(X, [-1,28,28,1]) #784를 변형 -1은 none에 맞게 알아서 계산하란 명령"
   ]
  },
  {
   "cell_type": "markdown",
   "metadata": {
    "colab_type": "text",
    "id": "3p7KD5vIgi9d"
   },
   "source": [
    "### Classifier Setup"
   ]
  },
  {
   "cell_type": "markdown",
   "metadata": {
    "colab_type": "text",
    "id": "0Ub9e5KZrtb2"
   },
   "source": [
    "First Convolutional Layer\n",
    "*  The convolution will compute 32 features for each 5x5 patch."
   ]
  },
  {
   "cell_type": "code",
   "execution_count": 8,
   "metadata": {
    "colab": {},
    "colab_type": "code",
    "id": "SWsQlT6grqmA"
   },
   "outputs": [],
   "source": [
    "W_conv1 = weight_variable([5, 5, 1, 32]) #필터의 크기 정함, 채널1(흑백이미지), 32는 필터가 32장 -> 32개니까 뚱뚱해짐\n",
    "b_conv1 = bias_variable([32])\n",
    "\n",
    "# We then convolve x_image with the weight tensor, add the bias, apply the ReLU function, and finally max pool.\n",
    "h_conv1 = tf.nn.relu(conv2d(x_image, W_conv1) + b_conv1)\n",
    "\n",
    "# The max_pool_2x2 method will reduce the image size to 14x14.\n",
    "h_pool1 = max_pool_2x2(h_conv1)"
   ]
  },
  {
   "cell_type": "markdown",
   "metadata": {
    "colab_type": "text",
    "id": "IsrYk-AKsJvb"
   },
   "source": [
    "Second Conv Layer\n",
    "* The second layer will have 64 features for each 5x5 patch."
   ]
  },
  {
   "cell_type": "code",
   "execution_count": 9,
   "metadata": {
    "colab": {},
    "colab_type": "code",
    "id": "a3JT3ZNfr9DU"
   },
   "outputs": [],
   "source": [
    "W_conv2 = weight_variable([5, 5, 32, 64]) #아까는 1이었지만, 전단계에서 32개의 필터를 썼기때문에 1대신 32가 들어감\n",
    "b_conv2 = bias_variable([64])\n",
    "h_conv2 = tf.nn.relu(conv2d(h_pool1, W_conv2) + b_conv2)\n",
    "h_pool2 = max_pool_2x2(h_conv2) ## the image size will be reduced to 7x7"
   ]
  },
  {
   "cell_type": "markdown",
   "metadata": {
    "colab_type": "text",
    "id": "6R_D8JCgsyyF"
   },
   "source": [
    "Densely Connected Layer (Fully connected layer)"
   ]
  },
  {
   "cell_type": "code",
   "execution_count": 10,
   "metadata": {
    "colab": {},
    "colab_type": "code",
    "id": "J6QbrLivsOJX"
   },
   "outputs": [],
   "source": [
    "n_neurons = 1024"
   ]
  },
  {
   "cell_type": "markdown",
   "metadata": {
    "colab_type": "text",
    "id": "HORV2WeWhNAA"
   },
   "source": [
    "본 예제에서는 이미지의  크기가  Convolution layer들을 거쳐오며 7x7로 줄어 들었음. 이때 이미지의 채널은 64개. 이걸 1024 개의 1차원 neuron에 연결할수 있도록 reshape 함.\n",
    "reshape은다음과 같이 호출\n",
    "```\n",
    "tf.reshape(h_pool2, [-1, 7*7*64])\n",
    "```"
   ]
  },
  {
   "cell_type": "code",
   "execution_count": 11,
   "metadata": {
    "colab": {},
    "colab_type": "code",
    "id": "5xo8T9rbtAtt"
   },
   "outputs": [],
   "source": [
    "W_fc1 = weight_variable([7 * 7 * 64, n_neurons])\n",
    "b_fc1 = bias_variable([n_neurons])\n",
    "\n",
    "h_pool2_flat = tf.reshape(h_pool2, [-1, 7*7*64])\n",
    "h_fc1 = tf.nn.relu(tf.matmul(h_pool2_flat, W_fc1) + b_fc1)"
   ]
  },
  {
   "cell_type": "markdown",
   "metadata": {
    "colab_type": "text",
    "id": "Yezike9Otyi3"
   },
   "source": [
    "마지막 Readout Layer : 최종 10개로 연결 !"
   ]
  },
  {
   "cell_type": "code",
   "execution_count": 12,
   "metadata": {
    "colab": {},
    "colab_type": "code",
    "id": "zuDVtPBVt5rQ"
   },
   "outputs": [],
   "source": [
    "W_fc2 = weight_variable([n_neurons, 10])\n",
    "b_fc2 = bias_variable([10])\n",
    "\n",
    "y_conv = tf.matmul(h_fc1, W_fc2) + b_fc2"
   ]
  },
  {
   "cell_type": "markdown",
   "metadata": {
    "colab_type": "text",
    "id": "-A32gz7Riewc"
   },
   "source": [
    "### Train and Evaluate the Model"
   ]
  },
  {
   "cell_type": "code",
   "execution_count": 13,
   "metadata": {
    "colab": {
     "base_uri": "https://localhost:8080/",
     "height": 161
    },
    "colab_type": "code",
    "executionInfo": {
     "elapsed": 1924,
     "status": "ok",
     "timestamp": 1541043179875,
     "user": {
      "displayName": "Ye-forest",
      "photoUrl": "https://lh6.googleusercontent.com/-0Ds-kFd4iM8/AAAAAAAAAAI/AAAAAAAAAFg/2hmwJIu0hic/s64/photo.jpg",
      "userId": "03647644472031772181"
     },
     "user_tz": -540
    },
    "id": "uOWpNe7euDMz",
    "outputId": "9953fafe-14b5-4922-e4b8-4ef086c5bed0"
   },
   "outputs": [
    {
     "name": "stdout",
     "output_type": "stream",
     "text": [
      "WARNING:tensorflow:From <ipython-input-13-cdd52f1106d2>:1: softmax_cross_entropy_with_logits (from tensorflow.python.ops.nn_ops) is deprecated and will be removed in a future version.\n",
      "Instructions for updating:\n",
      "\n",
      "Future major versions of TensorFlow will allow gradients to flow\n",
      "into the labels input on backprop by default.\n",
      "\n",
      "See @{tf.nn.softmax_cross_entropy_with_logits_v2}.\n",
      "\n"
     ]
    }
   ],
   "source": [
    "cross_entropy = tf.reduce_mean(tf.nn.softmax_cross_entropy_with_logits(labels=Y, logits=y_conv))\n",
    "cost = cross_entropy\n",
    "optimizer = tf.train.AdamOptimizer(learning_rate=learning_rate).minimize(cost) #train_step\n",
    "correct_prediction = tf.equal(tf.argmax(y_conv,1), tf.argmax(Y,1))\n",
    "\n",
    "accuracy = tf.reduce_mean(tf.cast(correct_prediction, tf.float32))\n",
    "\n",
    "sess = tf.Session()\n",
    "sess.run(tf.global_variables_initializer())"
   ]
  },
  {
   "cell_type": "markdown",
   "metadata": {
    "colab_type": "text",
    "id": "_bltM2-7i2XD"
   },
   "source": [
    "Cost 를 기록하기 위한 empty list"
   ]
  },
  {
   "cell_type": "code",
   "execution_count": 14,
   "metadata": {
    "colab": {},
    "colab_type": "code",
    "id": "1w74G-eZi3dx"
   },
   "outputs": [],
   "source": [
    "vcost=[]"
   ]
  },
  {
   "cell_type": "code",
   "execution_count": null,
   "metadata": {
    "colab": {
     "base_uri": "https://localhost:8080/",
     "height": 197
    },
    "colab_type": "code",
    "executionInfo": {
     "elapsed": 151160,
     "status": "ok",
     "timestamp": 1541043332363,
     "user": {
      "displayName": "Ye-forest",
      "photoUrl": "https://lh6.googleusercontent.com/-0Ds-kFd4iM8/AAAAAAAAAAI/AAAAAAAAAFg/2hmwJIu0hic/s64/photo.jpg",
      "userId": "03647644472031772181"
     },
     "user_tz": -540
    },
    "id": "DQZStWP8uJGb",
    "outputId": "fdd876e1-34ae-455c-a06d-3e7fd47d81a2"
   },
   "outputs": [
    {
     "name": "stdout",
     "output_type": "stream",
     "text": [
      "Epoch 0, training accuracy 0.14000000059604645\n",
      "Epoch 100, training accuracy 0.8799999952316284\n",
      "Epoch 200, training accuracy 0.9399999976158142\n",
      "Epoch 300, training accuracy 0.9599999785423279\n"
     ]
    }
   ],
   "source": [
    "for i in range(training_epochs):\n",
    "    batch = mnist.train.next_batch(batch_size)\n",
    "    if i%100 == 0:\n",
    "        train_accuracy = sess.run(accuracy, feed_dict={X:batch[0], Y: batch[1]})\n",
    "        print(\"Epoch {}, training accuracy {}\".format(i, train_accuracy))\n",
    "\n",
    "    c, _ = sess.run([cost, optimizer], feed_dict={X: batch[0], Y: batch[1]})\n",
    "    vcost.append(c)"
   ]
  },
  {
   "cell_type": "code",
   "execution_count": null,
   "metadata": {
    "colab": {
     "base_uri": "https://localhost:8080/",
     "height": 53
    },
    "colab_type": "code",
    "executionInfo": {
     "elapsed": 678,
     "status": "ok",
     "timestamp": 1541043333174,
     "user": {
      "displayName": "Ye-forest",
      "photoUrl": "https://lh6.googleusercontent.com/-0Ds-kFd4iM8/AAAAAAAAAAI/AAAAAAAAAFg/2hmwJIu0hic/s64/photo.jpg",
      "userId": "03647644472031772181"
     },
     "user_tz": -540
    },
    "id": "X7fonykuVDtN",
    "outputId": "ba453a26-4aac-45d3-b8a5-f9672c17a47c"
   },
   "outputs": [],
   "source": [
    "print(mnist.train.images.shape)\n",
    "print(mnist.train.labels.shape)\n"
   ]
  },
  {
   "cell_type": "code",
   "execution_count": null,
   "metadata": {
    "colab": {
     "base_uri": "https://localhost:8080/",
     "height": 35
    },
    "colab_type": "code",
    "executionInfo": {
     "elapsed": 1966,
     "status": "ok",
     "timestamp": 1541043335312,
     "user": {
      "displayName": "Ye-forest",
      "photoUrl": "https://lh6.googleusercontent.com/-0Ds-kFd4iM8/AAAAAAAAAAI/AAAAAAAAAFg/2hmwJIu0hic/s64/photo.jpg",
      "userId": "03647644472031772181"
     },
     "user_tz": -540
    },
    "id": "ZWdS6HsvuM6L",
    "outputId": "6bed6b42-9088-4bda-905e-1fa8f57811c5"
   },
   "outputs": [],
   "source": [
    "acc1 = sess.run(accuracy, feed_dict={X: mnist.train.images[:1000], Y: mnist.train.labels[:1000]})\n",
    "print(\"Train accuracy :{}\".format(acc1))"
   ]
  },
  {
   "cell_type": "code",
   "execution_count": null,
   "metadata": {
    "colab": {
     "base_uri": "https://localhost:8080/",
     "height": 35
    },
    "colab_type": "code",
    "executionInfo": {
     "elapsed": 1895,
     "status": "ok",
     "timestamp": 1541043337317,
     "user": {
      "displayName": "Ye-forest",
      "photoUrl": "https://lh6.googleusercontent.com/-0Ds-kFd4iM8/AAAAAAAAAAI/AAAAAAAAAFg/2hmwJIu0hic/s64/photo.jpg",
      "userId": "03647644472031772181"
     },
     "user_tz": -540
    },
    "id": "RL7WZiKtrusW",
    "outputId": "6cb9556d-3572-46dd-f8f2-1026cd685dce"
   },
   "outputs": [],
   "source": [
    "acc1 = sess.run(accuracy, feed_dict={X: mnist.test.images[:1000], Y: mnist.test.labels[:1000]})\n",
    "print(\"Test accuracy :{}\".format(acc1))"
   ]
  },
  {
   "cell_type": "markdown",
   "metadata": {
    "colab_type": "text",
    "id": "zrKwUjoZknQK"
   },
   "source": [
    "Cost graph"
   ]
  },
  {
   "cell_type": "code",
   "execution_count": null,
   "metadata": {
    "colab": {
     "base_uri": "https://localhost:8080/",
     "height": 365
    },
    "colab_type": "code",
    "executionInfo": {
     "elapsed": 1034,
     "status": "ok",
     "timestamp": 1541043338413,
     "user": {
      "displayName": "Ye-forest",
      "photoUrl": "https://lh6.googleusercontent.com/-0Ds-kFd4iM8/AAAAAAAAAAI/AAAAAAAAAFg/2hmwJIu0hic/s64/photo.jpg",
      "userId": "03647644472031772181"
     },
     "user_tz": -540
    },
    "id": "2zqsKmThrTxE",
    "outputId": "6f354e13-4562-4613-de32-602ed020c471"
   },
   "outputs": [],
   "source": [
    "plt.plot(vcost)\n",
    "plt.xlabel('Epoch')\n",
    "plt.ylabel('Cost')\n",
    "plt.show()"
   ]
  },
  {
   "cell_type": "code",
   "execution_count": null,
   "metadata": {
    "colab": {},
    "colab_type": "code",
    "id": "O2fbBJHwVDtx"
   },
   "outputs": [],
   "source": [
    "sess.close()"
   ]
  },
  {
   "cell_type": "code",
   "execution_count": null,
   "metadata": {
    "colab": {},
    "colab_type": "code",
    "id": "D5Zq_ovjVLrw"
   },
   "outputs": [],
   "source": []
  },
  {
   "cell_type": "code",
   "execution_count": null,
   "metadata": {},
   "outputs": [],
   "source": []
  },
  {
   "cell_type": "code",
   "execution_count": null,
   "metadata": {},
   "outputs": [],
   "source": []
  }
 ],
 "metadata": {
  "colab": {
   "collapsed_sections": [],
   "name": "TF04_3_MNIST_ConvNet.ipynb",
   "provenance": [],
   "version": "0.3.2"
  },
  "kernelspec": {
   "display_name": "Python 3",
   "language": "python",
   "name": "python3"
  },
  "language_info": {
   "codemirror_mode": {
    "name": "ipython",
    "version": 3
   },
   "file_extension": ".py",
   "mimetype": "text/x-python",
   "name": "python",
   "nbconvert_exporter": "python",
   "pygments_lexer": "ipython3",
   "version": "3.6.6"
  }
 },
 "nbformat": 4,
 "nbformat_minor": 1
}
